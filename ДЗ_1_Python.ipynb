﻿{
  "nbformat": 4,
  "nbformat_minor": 0,
  "metadata": {
    "colab": {
      "provenance": []
    },
    "kernelspec": {
      "name": "python3",
      "display_name": "Python 3"
    },
    "language_info": {
      "name": "python"
    }
  },
  "cells": [
    {
      "cell_type": "markdown",
      "source": [
        "Шаг 1.  Изучите материалы лекционных и практических занятий по темам раздела 2.\n",
        "\n",
        "Шаг 2. Выполните типовые задания по работе с выражениями, циклами и условиями на языке Python (Алгоритм выполнения представлен в практическом занятии по теме 2.1)."
      ],
      "metadata": {
        "id": "6IdQ76KIfNOy"
      }
    },
    {
      "cell_type": "markdown",
      "source": [
        "Задача 1. Создайте программу, запрашивающую у пользователя два целых числа $a$ и $b$, ввод которых осуществляется через символ пробела, т.е. числа $a$ и $b$ вводятся в одной строке через пробел. Выведите на экран результаты следующих математических операций (предполагается, что соответствующие операции определены):\n",
        "- сумма `a` и `b`;\n",
        "- разность `a` и `b`;\n",
        "- произведение `a` и `b`;\n",
        "- частное от деления `a` на `b`;\n",
        "- остаток от деления `a` на `b`;\n",
        "- десятичный логарифм числа `a;\n",
        "- результат возведения числа `a` в степень `b`;\n",
        "- квадратный корень из числа `a`;\n",
        "- результат умножения числа $e$ на `b`.    \n",
        "\n",
        "Примечание: рекомендуется \n",
        "- для ввода чисел использовать функцию [`input()`](https://pythonru.com/osnovy/poluchenie-polzovatelskogo-vvoda-v-python-s-input);\n",
        "- для выделения из строки 1-го и 2-го чисел использовать метод [`.split()`](https://pythonru.com/baza-znanij/razdelit-stroku-split); \n",
        "- для выполнения некоторых вычислений воспользоваться функциями библиотеки `math`; \n",
        "- вывод результата операций организовать с помощью функции [`print()`](https://pythonru.com/osnovy/python-print).\n",
        "\n",
        "Напомним, что подключить библиотеку можно следующим способом\n",
        "```python\n",
        "import math\n",
        "```"
      ],
      "metadata": {
        "id": "JlrxthjqYnPB"
      }
    },
    {
      "cell_type": "code",
      "source": [
        "# Ваш код здесь"
      ],
      "metadata": {
        "id": "CBWbPonIdNCf"
      },
      "execution_count": null,
      "outputs": []
    },
    {
      "cell_type": "code",
      "source": [
        "import math\n",
        "a, b = map(int, map(str.strip, input('Введите два целых числа через пробел ').split()))\n",
        "print(\"Сумма\",a,\"+\",b,\"=\",a+b)\n",
        "print(\"Разность\",a,\"-\",b,\"=\",a-b)\n",
        "print(\"Произведение\",a,\"*\",b,\"=\",a*b)\n",
        "print(\"Частное\",a,\"/\",b,\"=\",a/b)\n",
        "print(\"Остаток от деления\",a,\"%\",b,\"=\",a%b)\n",
        "print(\"Десятичный логарифм a\", math.log10(a))\n",
        "print(\"Возведение числа a в степень b\",a,\"**\",b,\"=\",a**b)\n",
        "print(\"Квадратный корень из числа  a\", math.sqrt(a))\n",
        "print(\"Умножение числа e на b\", math.e,\"*\",b,\"=\",a*math.e)\n"
      ],
      "metadata": {
        "colab": {
          "base_uri": "https://localhost:8080/"
        },
        "id": "xGswN19TgMhf",
        "outputId": "07eff2e6-575a-4974-eb8f-cb4e6bf1ef5a"
      },
      "execution_count": null,
      "outputs": [
        {
          "output_type": "stream",
          "name": "stdout",
          "text": [
            "Введите два целых числа через пробел 8 6\n",
            "Сумма 8 + 6 = 14\n",
            "Разность 8 - 6 = 2\n",
            "Произведение 8 * 6 = 48\n",
            "Частное 8 / 6 = 1.3333333333333333\n",
            "Остаток от деления 8 % 6 = 2\n",
            "Десятичный логарифм a 0.9030899869919435\n",
            "Возведение числа a в степень b 8 ** 6 = 262144\n",
            "Квадратный корень из числа  a 2.8284271247461903\n",
            "Умножение числа e на b 2.718281828459045 * 6 = 21.74625462767236\n"
          ]
        }
      ]
    },
    {
      "cell_type": "markdown",
      "source": [
        "Задача 2. Используя функции `range()` и `list()`, задайте список чисел в интервале $(1,20)$ с шагом 3. Для данного списка выполните следующие преобразования: \n",
        "\n",
        "1. С помощью функции `print()` напечатайте длину списка;\n",
        "2. Выведите все элементы списка, начиная со второй позиции; \n",
        "3. Выведите все четные элементы списка;\n",
        "4. Выведите все элементы списка, делящиеся на 5 без остатка. Если таких элементов нет, то должна выводиться надпись \"Элементов, делящихся на 5, нет\". Допускается использовать цикл `for`;\n",
        "5. Отсортируйте список в порядке убывания;\n",
        "6. Используя функции `map()` и `pow()`, рассчитайте квадраты элементов исходного списка. *Подсказка: для того, чтобы задать список из одинаковых элементов требуемой длины можно воспользоваться следующей конструкцией:\n",
        "```python\n",
        ">>> lenght = 3\n",
        ">>> [2]*lenght\n",
        "[2,2,2]\n",
        "```     \n",
        "где `lenght` -- число, определяющее требуемое количество элементов списка;\n",
        "7. Используя срезы, выведите элементы списка в обратном порядке;\n",
        "8. Рассчитайте для элементов списка выборочное среднее. <u>Использовать специальные библиотеки и встроенные методы нельзя</u>. Напомним, что для набора чисел $x_i$, $i=\\overline{1,n}$, выборочное среднее определяется по следующей формуле \n",
        "\n",
        "$$\n",
        "\\bar{x} = \\dfrac{1}{n}\\sum\\limits_{i=1}^{n}x_i.\n",
        "$$    \n",
        "\n",
        "Примечание: методы для работы со списками можно посмотреть [здесь](https://pythonworld.ru/tipy-dannyx-v-python/spiski-list-funkcii-i-metody-spiskov.html)."
      ],
      "metadata": {
        "id": "goFym0_HmR42"
      }
    },
    {
      "cell_type": "code",
      "source": [
        "# Ваш код здесь\n",
        "my_list=[*range(1,20,3)]\n",
        "print(\"Список чисел с шагом 3:\", my_list)\n",
        "print(\"Длина списка\", len(my_list))\n",
        "my_list=[*range(1,20,3)][1:]\n",
        "print(\"Выведите все элементы списка, начиная со второй позиции\",my_list)\n",
        "\n",
        " \n"
      ],
      "metadata": {
        "id": "Dnv9IV7Vdkcr",
        "colab": {
          "base_uri": "https://localhost:8080/"
        },
        "outputId": "ee91ab68-69d8-40e7-8453-661cb8825d44"
      },
      "execution_count": null,
      "outputs": [
        {
          "output_type": "stream",
          "name": "stdout",
          "text": [
            "Список чисел с шагом 3: [1, 4, 7, 10, 13, 16, 19]\n",
            "Длина списка 7\n",
            "Выведите все элементы списка, начиная со второй позиции [4, 7, 10, 13, 16, 19]\n"
          ]
        }
      ]
    },
    {
      "cell_type": "code",
      "source": [
        "# Четные элементы\n",
        "my_list=[*range(1,20,3)]\n",
        "for value in my_list:\n",
        " if value % 2 == 0:\n",
        "    print(value)\n",
        "\n"
      ],
      "metadata": {
        "colab": {
          "base_uri": "https://localhost:8080/"
        },
        "id": "OtCptnbJp6KW",
        "outputId": "c76e10c5-784a-4610-c830-fd9bea99b732"
      },
      "execution_count": null,
      "outputs": [
        {
          "output_type": "stream",
          "name": "stdout",
          "text": [
            "4\n",
            "10\n",
            "16\n"
          ]
        }
      ]
    },
    {
      "cell_type": "code",
      "source": [
        "#элементы списка, делящиеся на 5 без остатка\n",
        "for number_elem in my_list:\n",
        "  if number_elem % 5 == 0:\n",
        "    print (number_elem);\n",
        "    print(\"Элементов делящихся на 5 нет\")"
      ],
      "metadata": {
        "colab": {
          "base_uri": "https://localhost:8080/"
        },
        "id": "FMSt069btdld",
        "outputId": "9009bb57-445f-401d-8030-8051316a8385"
      },
      "execution_count": null,
      "outputs": [
        {
          "output_type": "stream",
          "name": "stdout",
          "text": [
            "10\n",
            "Элементов делящихся на 5 нет\n"
          ]
        }
      ]
    },
    {
      "cell_type": "code",
      "source": [
        "#Сортировка списка в порядке убывания\n",
        "my_list=[*range(1,20,3)]\n",
        "my_list.reverse()\n",
        "print(my_list)\n",
        "\n",
        "\n"
      ],
      "metadata": {
        "colab": {
          "base_uri": "https://localhost:8080/"
        },
        "id": "r1IMZDSQ2CVx",
        "outputId": "1c03409f-229f-4cdb-cc2e-066dcfdee8b7"
      },
      "execution_count": null,
      "outputs": [
        {
          "output_type": "stream",
          "name": "stdout",
          "text": [
            "[19, 16, 13, 10, 7, 4, 1]\n"
          ]
        }
      ]
    },
    {
      "cell_type": "code",
      "source": [
        "#Используя функции map() и pow(), рассчитайте квадраты элементов исходного списка.\n",
        "my_list=[*range(1,20,3)]\n",
        "list(map(pow,my_list,[2]*len(my_list)))\n"
      ],
      "metadata": {
        "colab": {
          "base_uri": "https://localhost:8080/"
        },
        "id": "yC0VEFLe6aZz",
        "outputId": "27b3a6b1-6de3-42c5-c813-de61608dcef0"
      },
      "execution_count": null,
      "outputs": [
        {
          "output_type": "execute_result",
          "data": {
            "text/plain": [
              "[1, 16, 49, 100, 169, 256, 361]"
            ]
          },
          "metadata": {},
          "execution_count": 10
        }
      ]
    },
    {
      "cell_type": "code",
      "source": [
        "# Вывод списка через срез в обратном порядке\n",
        "my_list=[*range(1,20,3)]\n",
        "my_list=[*range(1,20,3)] [::-1]\n",
        "print(my_list)"
      ],
      "metadata": {
        "colab": {
          "base_uri": "https://localhost:8080/"
        },
        "id": "fCqr2Nn1Df43",
        "outputId": "a4354d33-54b1-48d7-900d-09b923f07814"
      },
      "execution_count": null,
      "outputs": [
        {
          "output_type": "stream",
          "name": "stdout",
          "text": [
            "[19, 16, 13, 10, 7, 4, 1]\n"
          ]
        }
      ]
    },
    {
      "cell_type": "code",
      "source": [
        "# Рассчитайте для элементов списка выборочное среднее.\n",
        "mean = 0 \n",
        "for value in my_list:\n",
        "    mean += value/len(my_list)\n",
        "print('среднее для элиментов списка', round(mean, 2))"
      ],
      "metadata": {
        "id": "-CldQgghGyJW",
        "colab": {
          "base_uri": "https://localhost:8080/"
        },
        "outputId": "9ad330c0-d831-4abc-f9c5-d006ca73d23b"
      },
      "execution_count": null,
      "outputs": [
        {
          "output_type": "stream",
          "name": "stdout",
          "text": [
            "среднее для элиментов списка 11.5\n"
          ]
        }
      ]
    },
    {
      "cell_type": "markdown",
      "source": [
        "Задача 3. В течение недели каждый день в полдень проводились измерения темпратуры воздуха. Результаты представлены в следующей таблице:\n",
        "\n",
        "|День недели| Температура воздуха по шкале Цельсиа|\n",
        "|--:|--:|\n",
        "|понедельник | 12.0 |\n",
        "|вторник | 12.0 |\n",
        "|среда | 17.0 |\n",
        "|четверг | 17.0 |\n",
        "|пятница | 14.3 |\n",
        "|суббота | 11.9 |\n",
        "|воскресенье | 12.0|\n",
        "\n",
        "Ипользуя изученные Вами типы данных, представьте эту информацию в виде какой-либо структуры (строка, список, словарь, множество, кортеж) и  ответьте на следующие вопросы:\n",
        "- какова была ежедневная температура по шкале Фаренгейта (для каждого дня результат перевода оформить в виде кортежа $(C, F)$, где $C$ -- исходная температура, $F$ -- температура по шкале Фаренгейта);\n",
        "- в какой день(дни) наблюдалась максимальная/минимальная температура воздуха;\n",
        "- чему равно среднее значение температуры за неделю;\n",
        "- чему равно модальное значение ([мода](https://ru.wikipedia.org/wiki/%D0%9C%D0%BE%D0%B4%D0%B0_(%D1%81%D1%82%D0%B0%D1%82%D0%B8%D1%81%D1%82%D0%B8%D0%BA%D0%B0)#:~:text=%D0%9C%D0%BE%CC%81%D0%B4%D0%B0%20%E2%80%94%20%D0%B7%D0%BD%D0%B0%D1%87%D0%B5%D0%BD%D0%B8%D0%B5%20%D0%B2%D0%BE%20%D0%BC%D0%BD%D0%BE%D0%B6%D0%B5%D1%81%D1%82%D0%B2%D0%B5%20%D0%BD%D0%B0%D0%B1%D0%BB%D1%8E%D0%B4%D0%B5%D0%BD%D0%B8%D0%B9,%D0%BC%D0%BE%D0%B6%D0%BD%D0%BE%20%D1%81%D0%BA%D0%B0%D0%B7%D0%B0%D1%82%D1%8C%2C%20%D1%87%D1%82%D0%BE%20%D1%81%D0%BE%D0%B2%D0%BE%D0%BA%D1%83%D0%BF%D0%BD%D0%BE%D1%81%D1%82%D1%8C%20%D0%BC%D1%83%D0%BB%D1%8C%D1%82%D0%B8%D0%BC%D0%BE%D0%B4%D0%B0%D0%BB%D1%8C%D0%BD%D0%B0.)) температуры за неделю. В какие дни она наблюдалась?; \n",
        "- будем считать, что <<день прохладный>>, если температура воздуха строго ниже 14 градусов по шкале Цельсиа, в противном случае <<день теплый>>. Выведите список <<прохладных>> и <<теплых>> дней недели."
      ],
      "metadata": {
        "id": "UImciSdyeEDM"
      }
    },
    {
      "cell_type": "code",
      "source": [
        "# какова была ежедневная температура по шкале Фаренгейта\n",
        "#C  -- исходная температура, F -- температура по шкале Фаренгейта\n",
        "pogoda = [(\"понедельник\",12.0),(\"вторник\",12.0),(\"среда\",17.0),(\"четверг\",17.0),(\"пятница\",14.3),(\"суббота\",11.9),(\"воскресенье\",12.0)]\n",
        "temp1 = []\n",
        "for temp in pogoda:\n",
        "  ctemp = temp[1]\n",
        "  ftemp = round(1.8*ctemp+32.2)\n",
        "  temp1.append((ctemp, ftemp))\n",
        "print(temp1)"
      ],
      "metadata": {
        "id": "k0lurEEkdog7",
        "colab": {
          "base_uri": "https://localhost:8080/"
        },
        "outputId": "ae815032-828c-4469-8cb4-df5379242267"
      },
      "execution_count": null,
      "outputs": [
        {
          "output_type": "stream",
          "name": "stdout",
          "text": [
            "[(12.0, 54), (12.0, 54), (17.0, 63), (17.0, 63), (14, 57), (11, 52), (12, 54)]\n"
          ]
        }
      ]
    },
    {
      "cell_type": "code",
      "source": [
        "#в какой день(дни) наблюдалась максимальная/минимальная температура воздуха;\n",
        "days = ['понедельник', 'вторник', 'среда', 'четверг', 'пятница', 'суббота', 'воскресенье']\n",
        "temperature = [12, 12, 17, 17, 14.3, 11.9, 12]\n",
        "week = dict(zip(days, temperature))\n",
        "\n",
        "min_temp = min(week.values()) \n",
        "max_temp = max(week.values())\n",
        "lst_min_days = list()\n",
        "lst_max_days = list()\n",
        "\n",
        "for i in week.keys():\n",
        "    if week[i] == min_temp:\n",
        "        lst_min_days.append(i)\n",
        "    elif week[i] == max_temp:\n",
        "        lst_max_days.append(i)\n",
        "\n",
        "print(lst_min_days, lst_max_days)\n",
        "    \n"
      ],
      "metadata": {
        "colab": {
          "base_uri": "https://localhost:8080/"
        },
        "id": "yKYUtgDPLKtT",
        "outputId": "c14202b0-5119-45af-e565-ca3673fc34f5"
      },
      "execution_count": null,
      "outputs": [
        {
          "output_type": "stream",
          "name": "stdout",
          "text": [
            "['суббота'] ['среда', 'четверг']\n"
          ]
        }
      ]
    },
    {
      "cell_type": "code",
      "source": [
        "#чему равно среднее значение температуры за неделю;\n",
        "mean = 0 \n",
        "for value in week.values():\n",
        "    mean += value/len(week.values())\n",
        "print(round(mean, 2)) \n"
      ],
      "metadata": {
        "id": "rz6CLawjVT4Z",
        "colab": {
          "base_uri": "https://localhost:8080/"
        },
        "outputId": "2aa14387-72a5-4790-f0c5-a5e8602c5c69"
      },
      "execution_count": null,
      "outputs": [
        {
          "output_type": "stream",
          "name": "stdout",
          "text": [
            "13.74\n"
          ]
        }
      ]
    },
    {
      "cell_type": "code",
      "source": [
        "# чему равно модальное значение (мода) температуры за неделю. В какие дни она наблюдалась?;\n",
        "\n",
        "dict_unique_temp = dict.fromkeys(set(week.values()),0)\n",
        "\n",
        "for key in dict_unique_temp.keys():\n",
        "    dict_unique_temp[key] = list(week.values()).count(key)\n",
        "\n",
        "list_max_count_temp = list()\n",
        "for key, value in dict_unique_temp.items():\n",
        "    if value == max(dict_unique_temp.values()):\n",
        "        list_max_count_temp.append(key)\n",
        "\n",
        "for key, value in week.items():\n",
        "    if value in list_max_count_temp:\n",
        "        print(key)"
      ],
      "metadata": {
        "colab": {
          "base_uri": "https://localhost:8080/"
        },
        "id": "1UqmKlaSOooW",
        "outputId": "499f7fc4-c457-4558-e6a7-6d2de2908766"
      },
      "execution_count": null,
      "outputs": [
        {
          "output_type": "stream",
          "name": "stdout",
          "text": [
            "понедельник\n",
            "вторник\n",
            "воскресенье\n"
          ]
        }
      ]
    },
    {
      "cell_type": "code",
      "source": [
        "#Выведите список <<прохладных>> и <<теплых>> дней недели.\n",
        "#<<день прохладный>>, если температура воздуха строго ниже 14 градусов\n",
        "\n",
        "list_days_teplo = list()\n",
        "list_days_xolod = list()\n",
        "\n",
        "for key, value in week.items():\n",
        "    if value > 14:\n",
        "        list_days_teplo.append(key)\n",
        "    else:\n",
        "        list_days_xolod.append(key)\n",
        "print(list_days_teplo, list_days_xolod)"
      ],
      "metadata": {
        "colab": {
          "base_uri": "https://localhost:8080/"
        },
        "id": "JBV4VT39O1g8",
        "outputId": "12681354-e41f-4a5a-b9c8-28fdb7a1c0a5"
      },
      "execution_count": null,
      "outputs": [
        {
          "output_type": "stream",
          "name": "stdout",
          "text": [
            "['среда', 'четверг', 'пятница'] ['понедельник', 'вторник', 'суббота', 'воскресенье']\n"
          ]
        }
      ]
    },
    {
      "cell_type": "markdown",
      "source": [
        "Задача 4. Имеются следующие списки\n",
        "```python\n",
        ">>> disc = ['Алгебра', 'Геометрия', 'Топология']\n",
        ">>> student = ['Сидоров', 'Иванов', 'Петров', 'Иванова'] \n",
        ">>> grades_student = [[2, 4, 4], [3, 4, 4], [3, 3, 3], [5, 5, 5]] \n",
        "```\n",
        "Здесь \n",
        "\n",
        "|Список|Комментарий|\n",
        "|--:|:--|\n",
        "|`disc`|Перечень экзаменов по дисциплинам|\n",
        "|`student`|Фамилии студентов|\n",
        "|`grades_student`|Оценки студентов по экзаменам|\n",
        "\n",
        "Необходимо из имеющихся списков:\n",
        "1. С помощью методов `dict()` и `zip()` сформируйте словарь вида\n",
        "```python\n",
        "{'Иванов': [3, 4, 4],\n",
        " 'Иванова': [5, 5, 5],\n",
        " 'Петров': [3, 3, 3],\n",
        " 'Сидоров': [2, 4, 4]}\n",
        "```\n",
        "2. С помощью цикла `for` и метода `enumerate()` cформируйте словарь вида \n",
        "```python\n",
        "{'Иванов': {'Алгебра': 3, 'Геометрия': 4, 'Топология': 4},\n",
        " 'Иванова': {'Алгебра': 5, 'Геометрия': 5, 'Топология': 5},\n",
        " 'Петров': {'Алгебра': 3, 'Геометрия': 3, 'Топология': 3},\n",
        " 'Сидоров': {'Алгебра': 2, 'Геометрия': 4, 'Топология': 4}} \n",
        "```\n",
        "3. В словаре, полученном во 2-м пункте, найдите и распечатайте фамилии <<круглых отличников>> и  студентов, несдавших сессию."
      ],
      "metadata": {
        "id": "yKdgoYFcobK4"
      }
    },
    {
      "cell_type": "code",
      "source": [
        "# С помощью методов dict() и zip() сформируйте словарь вида\n",
        "disc = ['Алгебра', 'Геометрия', 'Топология']\n",
        "student = ['Сидоров', 'Иванов', 'Петров', 'Иванова'] \n",
        "grades_student = [[2, 4, 4], [3, 4, 4], [3, 3, 3], [5, 5, 5]]\n",
        "\n",
        "student_grades = dict(zip(student, grades_student))\n",
        "student_grades"
      ],
      "metadata": {
        "id": "N7U5xAcxekHF",
        "colab": {
          "base_uri": "https://localhost:8080/"
        },
        "outputId": "0fec354a-e09f-447e-c2d7-728054f67f81"
      },
      "execution_count": null,
      "outputs": [
        {
          "output_type": "execute_result",
          "data": {
            "text/plain": [
              "{'Сидоров': [2, 4, 4],\n",
              " 'Иванов': [3, 4, 4],\n",
              " 'Петров': [3, 3, 3],\n",
              " 'Иванова': [5, 5, 5]}"
            ]
          },
          "metadata": {},
          "execution_count": 38
        }
      ]
    },
    {
      "cell_type": "code",
      "source": [
        "# С помощью цикла for и метода enumerate() cформируйте словарь вида\n",
        "# {'Иванов': {'Алгебра': 3, 'Геометрия': 4, 'Топология': 4},\n",
        "# 'Иванова': {'Алгебра': 5, 'Геометрия': 5, 'Топология': 5},\n",
        "# 'Петров': {'Алгебра': 3, 'Геометрия': 3, 'Топология': 3},\n",
        "# 'Сидоров': {'Алгебра': 2, 'Геометрия': 4, 'Топология': 4}} \n",
        "d = dict.fromkeys(student, 0)\n",
        "for index, key in enumerate(d.keys()):\n",
        "    d[key] = dict(zip(disc, grades_student[index]))\n",
        "d"
      ],
      "metadata": {
        "colab": {
          "base_uri": "https://localhost:8080/"
        },
        "id": "KAskrJjDPdzj",
        "outputId": "5ce18d19-5f55-4f3c-8e0c-36fa551fb62a"
      },
      "execution_count": null,
      "outputs": [
        {
          "output_type": "execute_result",
          "data": {
            "text/plain": [
              "{'Сидоров': {'Алгебра': 2, 'Геометрия': 4, 'Топология': 4},\n",
              " 'Иванов': {'Алгебра': 3, 'Геометрия': 4, 'Топология': 4},\n",
              " 'Петров': {'Алгебра': 3, 'Геометрия': 3, 'Топология': 3},\n",
              " 'Иванова': {'Алгебра': 5, 'Геометрия': 5, 'Топология': 5}}"
            ]
          },
          "metadata": {},
          "execution_count": 39
        }
      ]
    },
    {
      "cell_type": "code",
      "source": [],
      "metadata": {
        "id": "C_tCZ1InVvJn"
      },
      "execution_count": null,
      "outputs": []
    },
    {
      "cell_type": "code",
      "source": [
        "#В словаре, полученном во 2-м пункте, найдите и распечатайте \n",
        "#фамилии <<круглых отличников>> и студентов двоечников.\n",
        "# Все перепробывала не понимаю в чем тут ошибка\n",
        "for key, value in dict.items():\n",
        "    if min(value.values()) == 2:\n",
        "        print('Двоечник', key)\n",
        "    elif max(value.values()) == 5:\n",
        "        print('Отличник', key)\n",
        "   "
      ],
      "metadata": {
        "colab": {
          "base_uri": "https://localhost:8080/",
          "height": 235
        },
        "id": "Z1UflHrgPozm",
        "outputId": "abeaf0e2-4439-4350-e4df-fca9daab629c"
      },
      "execution_count": null,
      "outputs": [
        {
          "output_type": "error",
          "ename": "TypeError",
          "evalue": "ignored",
          "traceback": [
            "\u001b[0;31m---------------------------------------------------------------------------\u001b[0m",
            "\u001b[0;31mTypeError\u001b[0m                                 Traceback (most recent call last)",
            "\u001b[0;32m<ipython-input-29-3ec15c8b9d2c>\u001b[0m in \u001b[0;36m<cell line: 3>\u001b[0;34m()\u001b[0m\n\u001b[1;32m      1\u001b[0m \u001b[0;31m#В словаре, полученном во 2-м пункте, найдите и распечатайте\u001b[0m\u001b[0;34m\u001b[0m\u001b[0;34m\u001b[0m\u001b[0m\n\u001b[1;32m      2\u001b[0m \u001b[0;31m#фамилии <<круглых отличников>> и студентов двоечников.\u001b[0m\u001b[0;34m\u001b[0m\u001b[0;34m\u001b[0m\u001b[0m\n\u001b[0;32m----> 3\u001b[0;31m \u001b[0;32mfor\u001b[0m \u001b[0mkey\u001b[0m\u001b[0;34m,\u001b[0m \u001b[0mvalue\u001b[0m \u001b[0;32min\u001b[0m \u001b[0mdict\u001b[0m\u001b[0;34m.\u001b[0m\u001b[0mitems\u001b[0m\u001b[0;34m:\u001b[0m\u001b[0;34m\u001b[0m\u001b[0;34m\u001b[0m\u001b[0m\n\u001b[0m\u001b[1;32m      4\u001b[0m     \u001b[0;32mif\u001b[0m \u001b[0mmin\u001b[0m\u001b[0;34m(\u001b[0m\u001b[0mvalue\u001b[0m\u001b[0;34m.\u001b[0m\u001b[0mvalues\u001b[0m\u001b[0;34m(\u001b[0m\u001b[0;34m)\u001b[0m\u001b[0;34m)\u001b[0m \u001b[0;34m==\u001b[0m \u001b[0;36m2\u001b[0m\u001b[0;34m:\u001b[0m\u001b[0;34m\u001b[0m\u001b[0;34m\u001b[0m\u001b[0m\n\u001b[1;32m      5\u001b[0m         \u001b[0mprint\u001b[0m\u001b[0;34m(\u001b[0m\u001b[0;34m'Двоечник'\u001b[0m\u001b[0;34m,\u001b[0m \u001b[0mkey\u001b[0m\u001b[0;34m)\u001b[0m\u001b[0;34m\u001b[0m\u001b[0;34m\u001b[0m\u001b[0m\n",
            "\u001b[0;31mTypeError\u001b[0m: 'method_descriptor' object is not iterable"
          ]
        }
      ]
    },
    {
      "cell_type": "markdown",
      "source": [
        "Задача 5. Целое положительное число из отрезка $[3;50]$ вводится с клавиатуры. Найдите сумму всех положительных четных чисел, строго меньших введенного.\n",
        "\n",
        "Примечание: здесь можно предложить несколько решений, например, только через списки или с использованием циклов. В целях ознакомления и овладения навыками работы с циклами рекомендуется использовать цикл с предусловием `while`."
      ],
      "metadata": {
        "id": "gW6E2_aXtNPW"
      }
    },
    {
      "cell_type": "code",
      "source": [
        "# Ваш код здесь\n",
        "flag = True\n",
        "value = int(input())\n",
        "while flag:\n",
        "    if (value >= 3) & (value <= 50):\n",
        "        flag = False\n",
        "    else:\n",
        "        print('введите число из интервала')\n",
        "        value = int(input())"
      ],
      "metadata": {
        "id": "iT2gCxwdea7y",
        "colab": {
          "base_uri": "https://localhost:8080/"
        },
        "outputId": "5c61e319-b590-439b-e10e-71d393c34975"
      },
      "execution_count": null,
      "outputs": [
        {
          "name": "stdout",
          "output_type": "stream",
          "text": [
            "10\n"
          ]
        }
      ]
    },
    {
      "cell_type": "code",
      "source": [
        "d_2 = 2\n",
        "s = 0\n",
        "while d_2 < value:\n",
        "    s += d_2\n",
        "    d_2 += 2\n",
        "\n",
        "print(s)"
      ],
      "metadata": {
        "colab": {
          "base_uri": "https://localhost:8080/"
        },
        "id": "1CALY_vxZZfR",
        "outputId": "d865240c-355b-476c-8c45-8bb4f41b9f55"
      },
      "execution_count": null,
      "outputs": [
        {
          "output_type": "stream",
          "name": "stdout",
          "text": [
            "20\n"
          ]
        }
      ]
    },
    {
      "cell_type": "markdown",
      "source": [
        "Задача 6. Имеется следующий текст:\n",
        "\n",
        "Взвейтесь кострами, синие ночи!\n",
        "\n",
        "Мы пионеры - дети рабочих\n",
        "\n",
        "Близится время светлых годов\n",
        "\n",
        "Клич пионера: \"Всегда будь готов!\"\n",
        "\n",
        "Радостным шагом с песней веселой\n",
        "\n",
        "Мы выступаем за комсомолом\n",
        "\n",
        "Близится время светлых годов\n",
        "\n",
        "Клич пионера: \"Всегда будь готов!\"\n",
        "\n",
        "Мы поднимаем красное знамя\n",
        "\n",
        "Дети рабочих, смело за нами!\n",
        "\n",
        "Близится время светлых годов\n",
        "\n",
        "Клич пионера: \"Всегда будь готов!\"\n",
        "\n",
        "Взвейтесь кострами, синие ночи!\n",
        "\n",
        "Мы пионеры - дети рабочих\n",
        "\n",
        "Близится время светлых годов\n",
        "\n",
        "Клич пионера: \"Всегда будь готов!\"\n",
        "\n",
        "Клич пионера: \"Всегда будь готов!\"\n",
        "\n",
        "Приведите данный текст к нижнему регистру и ответьте на следующие вопросы:\n",
        "- считая символ новой строки `\\n` разделителем, сколько строк в данном тексте;\n",
        "- считая символы `.`, `!` и `?` концом предложения, сколько предложений в данном тексте;\n",
        "- сколько в данном тексте уникальных слов. Разные формы одного и того же слова будет считать уникальными словами;\n",
        "- постройте частотную таблицу для каждого из уникальных слов (сколько раз слово встречалось);   \n",
        "- сколько в данном тексте уникальных букв."
      ],
      "metadata": {
        "id": "pMB2kIzstg_F"
      }
    },
    {
      "cell_type": "code",
      "source": [
        "# Уникальные слова\n",
        "\n",
        "s = '''Взвейтесь кострами, синие ночи!\n",
        "Мы пионеры - дети рабочих\n",
        "Близится время светлых годов\n",
        "Клич пионера: \"Всегда будь готов!\"\n",
        "Радостным шагом с песней веселой\n",
        "Мы выступаем за комсомолом\n",
        "Близится время светлых годов\n",
        "Клич пионера: \"Всегда будь готов!\"\n",
        "Мы поднимаем красное знамя\n",
        "Дети рабочих, смело за нами!\n",
        "Близится время светлых годов\n",
        "Клич пионера: \"Всегда будь готов!\"\n",
        "Взвейтесь кострами, синие ночи!\n",
        "Мы пионеры - дети рабочих\n",
        "Близится время светлых годов\n",
        "Клич пионера: \"Всегда будь готов!\"\n",
        "Клич пионера: \"Всегда будь готов!\"'''\n",
        "\n",
        "\n",
        "#{word.strip() for lines in s.lower().split('\\n') for word in lines.split()}\n",
        "punk = ['!', '(', ')', '-', '[', ']', '{', '}', \n",
        "        ';', '?', ':', ',', '.', '\"', \"'\"]\n",
        "\n",
        "set_word = set()\n",
        "\n",
        "for symbol in punk:\n",
        "    s = s.replace(symbol,\"\")\n",
        "\n",
        "for word in s.split():\n",
        "    set_word.add(word.strip())\n",
        "print(len(set_word))\n",
        "\n",
        "\n"
      ],
      "metadata": {
        "id": "o1ne_tvXe_Zk",
        "colab": {
          "base_uri": "https://localhost:8080/"
        },
        "outputId": "65b46b62-ca20-4a08-e41e-28525103aa05"
      },
      "execution_count": 31,
      "outputs": [
        {
          "output_type": "stream",
          "name": "stdout",
          "text": [
            "31\n"
          ]
        }
      ]
    },
    {
      "cell_type": "code",
      "source": [
        "#количество строк в данном тексте"
      ],
      "metadata": {
        "id": "AluN1S3CagRH"
      },
      "execution_count": null,
      "outputs": []
    },
    {
      "cell_type": "code",
      "source": [
        "len ([l.strip() for l in s.split('\\n')])"
      ],
      "metadata": {
        "colab": {
          "base_uri": "https://localhost:8080/"
        },
        "id": "ihjwo4iGZ9gx",
        "outputId": "9f5a71cd-7bd0-4c22-d784-2511991a24e6"
      },
      "execution_count": null,
      "outputs": [
        {
          "output_type": "execute_result",
          "data": {
            "text/plain": [
              "17"
            ]
          },
          "metadata": {},
          "execution_count": 17
        }
      ]
    },
    {
      "cell_type": "code",
      "source": [
        "# Cчитая символы ., ! и ? концом предложения, сколько предложений в данном тексте\n",
        "s = '''Взвейтесь кострами, синие ночи!\n",
        "мы пионеры - дети рабочих\n",
        "близится время светлых годов\n",
        "клич пионера: \"Всегда будь готов!\"\n",
        "радостным шагом с песней веселой\n",
        "мы выступаем за комсомолом\n",
        "близится время светлых годов\n",
        "клич пионера: \"Всегда будь готов!\"\n",
        "мы поднимаем красное знамя\n",
        "дети рабочих, смело за нами!\n",
        "близится время светлых годов\n",
        "клич пионера: \"Всегда будь готов!\"\n",
        "взвейтесь кострами, синие ночи!\n",
        "мы пионеры - дети рабочих\n",
        "близится время светлых годов\n",
        "клич пионера: \"Всегда будь готов!\"\n",
        "клич пионера: \"Всегда будь готов!\"'''\n",
        "symbol_end = ['.', '!', '?']\n",
        "s = s.lower()\n",
        "count_p = 0\n",
        "for symbol in symbol_end:\n",
        "    count_p += s.count(symbol) \n",
        "print(count_p)"
      ],
      "metadata": {
        "colab": {
          "base_uri": "https://localhost:8080/"
        },
        "id": "SyzfZWCDOtdY",
        "outputId": "6888dc43-8ddf-44f1-ae58-4ce197d1861e"
      },
      "execution_count": 17,
      "outputs": [
        {
          "output_type": "stream",
          "name": "stdout",
          "text": [
            "8\n"
          ]
        }
      ]
    },
    {
      "cell_type": "code",
      "source": [
        "#постройте частотную таблицу для каждого из уникальных слов (сколько раз слово встречалось);\n",
        "s = s.lower()\n",
        "for symbol in punk:\n",
        "    s.replace(symbol,\"\")\n",
        "\n",
        "dict_word_count = dict.fromkeys(set_word,0)\n",
        "for key in dict_word_count.keys():\n",
        "     dict_word_count[key] = s.lower().split().count(key)\n",
        "dict_word_count"
      ],
      "metadata": {
        "colab": {
          "base_uri": "https://localhost:8080/"
        },
        "id": "Zri3WjSCSu-k",
        "outputId": "5d566e59-e4c4-47a7-9669-490e40862163"
      },
      "execution_count": 25,
      "outputs": [
        {
          "output_type": "execute_result",
          "data": {
            "text/plain": [
              "{'годов': 4,\n",
              " 'комсомолом': 1,\n",
              " 'веселой': 1,\n",
              " 'будь': 5,\n",
              " 'Дети': 0,\n",
              " 'пионеры': 2,\n",
              " 'смело': 1,\n",
              " 'дети': 3,\n",
              " 'светлых': 4,\n",
              " 'Клич': 0,\n",
              " 'пионера': 5,\n",
              " 'Мы': 0,\n",
              " 'красное': 1,\n",
              " 'рабочих': 3,\n",
              " 'шагом': 1,\n",
              " 'выступаем': 1,\n",
              " 'с': 1,\n",
              " 'ночи': 2,\n",
              " 'кострами': 2,\n",
              " 'поднимаем': 1,\n",
              " 'нами': 1,\n",
              " 'готов': 5,\n",
              " 'Взвейтесь': 0,\n",
              " 'синие': 2,\n",
              " 'знамя': 1,\n",
              " 'песней': 1,\n",
              " 'за': 2,\n",
              " 'мы': 4,\n",
              " 'Радостным': 0,\n",
              " 'Всегда': 0,\n",
              " 'Близится': 0,\n",
              " 'время': 4}"
            ]
          },
          "metadata": {},
          "execution_count": 25
        }
      ]
    },
    {
      "cell_type": "code",
      "source": [
        "#сколько в данном тексте уникальных букв\n",
        "set_unique_a = set()\n",
        "\n",
        "for key in dict_word_count.keys():\n",
        "    set_unique_a = set_unique_a.union(set(key))\n",
        "    \n",
        "len(set_unique_a)"
      ],
      "metadata": {
        "colab": {
          "base_uri": "https://localhost:8080/"
        },
        "id": "mJwazgtwYiTO",
        "outputId": "71dffa8b-88b3-4dd3-c609-e7a0a09aaa7c"
      },
      "execution_count": 29,
      "outputs": [
        {
          "output_type": "execute_result",
          "data": {
            "text/plain": [
              "31"
            ]
          },
          "metadata": {},
          "execution_count": 29
        }
      ]
    },
    {
      "cell_type": "code",
      "source": [],
      "metadata": {
        "id": "hvhQW6yqZumv"
      },
      "execution_count": 32,
      "outputs": []
    }
  ]
}
